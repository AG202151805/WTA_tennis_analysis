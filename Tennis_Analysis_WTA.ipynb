{
 "cells": [
  {
   "cell_type": "code",
   "execution_count": 5,
   "id": "611abf32",
   "metadata": {},
   "outputs": [],
   "source": [
    "from winners_and_rounds import *\n",
    "from ranking_algorithms import *"
   ]
  },
  {
   "cell_type": "markdown",
   "id": "74077f9e",
   "metadata": {},
   "source": [
    "## Fifteen Years of Women's Tennis\n",
    "\n",
    "The final assignment asks you to use the computational thinking and programming skills you learned in the course to answer an empirical social science question. You are expected to apply the best practices and theoretical concepts we covered in the course to produce a program that not only returns the correct output but is also legible, modular, and reasonably optimized. The assignment assumes mastery of loops, conditionals, and functions, as well as awareness of issues related to runtime performance.\n",
    "\n",
    "In honor of Emma Raducanu's historical achievements this year, we will study the results of womens' tennis matches over the period 2007-2021. Your objectives are to parse the data, reconstruct tournament brackets, identify the top players, and implement an algorithm to provide an alternative ranking for the players.\n",
    "\n",
    "**NOTE: You are only allowed to use fundamental Python data types (lists, tuples, dictionaries, numpy.ndarray, etc.) to complete this assignment.** You are not allowed to use advanced data querying and data analysis packages such as pandas, sqlite, networkx, or similar. We impose this restriction in order to test your grasp of fundamental programming concepts, not your scripting experience with Python libraries you acquired from prior work or other courses."
   ]
  },
  {
   "cell_type": "markdown",
   "id": "b3704b79",
   "metadata": {},
   "source": [
    "### Data\n",
    "\n",
    "The repository (tennis_cvs_files) contains fifteen `.csv` files with match results, one file for each year. Each file contains the following variables:\n",
    "\n",
    "* Tournament – the name of the tournament that the match was part of.\n",
    "* Start date – the date when the tournament starts.\n",
    "* End date – the date when the tournament ends.\n",
    "* Best of – 3 means that first player to win 2 sets wins match (all WTA matches are best of 3 sets).\n",
    "* Player 1, Player 2 – names of the players in the match.\n",
    "* Rank 1, Rank 2 – WTA ranks of Player 1 and Player 2 before the start of the tournament. Not all players will have a ranking.\n",
    "* Set 1-3 – result for each set played where the score is shown as: number of games won by Player 1 - number of games won by Player 2. The player that wins the most games in a set wins that set.\n",
    "* Comment\n",
    "  * Completed means match was played.\n",
    "  * Player retired means that the named player withdrew and the other player won by default.\n"
   ]
  },
  {
   "cell_type": "markdown",
   "id": "c7ab37de",
   "metadata": {},
   "source": [
    "### 1. Reconstructing the tournaments\n",
    "\n",
    "Tournaments in tennis are typically in knockout format. In each round there are several pairs of fixtures, the winners of each match advance to the next round and the losers are eliminated. The winners then proceed to the next round and the process continues until two players contest the final. Typically, the rounds in the competition go as follows: \\[`First Round`, `Second Round`, ...,\\] `Quarterfinals`, `Semifinals`, `Final`.\n",
    "\n",
    "In some cases, tournaments have a `Round Robin` (also known as all-play-all) group stage, meaning that each player in a group plays against each other player in turn. There are usually two parallel groups with 4 players in each. The top player(s) (i.e. those who won the most matches) in each group advance to a short knockout stage (typically just Semifinals and Final). These tournaments are:\n",
    "\n",
    "* Sony Ericsson Championships 2007-2015\n",
    "* Commonwealth Bank Tournament of Champions 2009\n",
    "* Qatar Airways Tournament of Champions Sofia 2012\n",
    "* Garanti Koza WTA Tournament of Champions 2013-2014\n",
    "* BNP Paribas WTA Finals 2016-2018\n",
    "* WTA Elite Trophy 2015-2019\n",
    "* WTA Finals 2019, 2021\n",
    "\n",
    "Very occasionally, tournaments also include a `Third Place` match too.\n",
    "\n",
    "Your task is to identify the winner in each match and the round in which the match was played. To check your work, please call the procedures you have writen to print the answers to the following questions:\n",
    "\n",
    "* Who won the final of the 2021 Women's US Open?\n",
    "* Who played against whom in the 4th Round of the 2018 French Open? \n",
    "* In which round was Venus Williams eliminated in the 2011 Australian Open?\n",
    "* How many finals has Naomi Osaka played in until now?\n",
    "* How many times have Venus and Serena Williams played against each other and how many of these matches each won?\n",
    "\n",
    "### 2. Winners win\n",
    "\n",
    "One simple and naive way to rank players is to count how many matches they won each year. Write a procedure that estimates this. Then print the three top ranked players for the year 2021 and for the period 2007-2021, together with the total number of matches they won. Higher scores are better, so ranking is the reversed order of most matches won.\n",
    "\n",
    "\n",
    "### 3. Winners don't lose\n",
    "\n",
    "A more sophisticated ranking algorithm will account for the fact that some players may play fewer games (e.g., due to an injury) and that wins in later stages of a tournament (e.g., in the final and semi-final compared to earlier rounds of the competition) are more important. Write another procedure that estimates a player's rank by adding `r` points for every win and subtracting `1/r` for every loss, where `r = 1` for the lowest elimination round of the tournament, `r = 2` for the next round of the tournament, and so on. In other words, `r` starts at 1 and increases for every next elimination round. This way, winning larger competitions brings more points (they have more elimination rounds), wins in later rounds improve one's rank more, and losses in earlier rounds diminish one's rank more. For round-robin stage matches, assume that `r = 1`. \n",
    "\n",
    "Use this measure to print the three top ranked players for the year 2021 and for the period 2007-2021, together with their scores.\n",
    "\n",
    "\n",
    "### 4. Winners beat other winners (WbW)\n",
    "\n",
    "Another idea for ranking players is that winning over better players should count more. However, how we measure a good player depends on whether they beat other good players, so we get into a recursive situation. Do not worry, you will not have to write a recursive procedure here as every recursive solution can be rewritten as iteration! This is what we will do:\n",
    "\n",
    "1. First, count all the players in the given data and assign each a score of 1/n, where n is the number of unique players.\n",
    "\n",
    "2. Then, repeatedly do the following sequence of steps:\n",
    "    1. Each player divides its current score equally among all the matches they have lost and passes these shares onto the players they lost to. If the player never lost, then they pass their current score to themselves. If the player lost two times to a specific individual, then they pass two shares to that individual.   \n",
    "    2. Each player updates their score to be the sum of the shares they receive.    \n",
    "    3. Rescale the score of each player by multiplying it by 0.85 and adding 0.15/n.\n",
    "    \n",
    "3. Repeat the procedure until adjustments are too small to matter. You may need to come up with modifications of the algorithm or the data if the algorithm cannot converge or produces non-sensical results in specific situations.\n",
    "\n",
    "This algorithm essentially starts with a world in which everyone is equally important and then starts to \"pass importance\" iteratively to the winners until an equilibrium is reached.\n",
    "\n",
    "Use this measure, which we will call WbW, to print the three top ranked players for the year 2021 and for the period 2007-2021, together with their scores. "
   ]
  },
  {
   "cell_type": "code",
   "execution_count": 7,
   "id": "f26ce2ab",
   "metadata": {},
   "outputs": [
    {
     "name": "stdout",
     "output_type": "stream",
     "text": [
      "Who won the final of the 2021 Womens US Open?\n",
      "Raducanu E. won the final\n",
      "\n",
      "\n",
      "Who played against whom in the 4th Round of the 2018 French Open?\n",
      "Keys M. won Buzarnescu M.\n",
      "Putintseva Y. won Strycova B.\n",
      "Stephens S. won Kontaveit A.\n",
      "Halep S. won Mertens E.\n",
      "Kasatkina D. won Wozniacki C.\n",
      "Kerber A. won Garcia C.\n",
      "Sharapova M. won Williams S.\n",
      "Muguruza G. won Tsurenko L.\n",
      "\n",
      "\n",
      "How many finals has Naomi Osaka played in until now?\n",
      "Osaka N. appeared in 10 finals\n",
      "\n",
      "\n",
      "In which round was Venus Williams eliminated in the 2011 Australian Open?\n",
      "Williams V. was eliminated in round 3 in Australian Open 2011\n",
      "\n",
      "\n",
      "How many times have Venus and Serena Williams played against each other and how many of these matches each won?\n",
      "Williams S. and Williams V. faced each other 18 times\n",
      "Williams S. won 12 times\n",
      "Williams V. won 6 times\n",
      "\n",
      "\n"
     ]
    }
   ],
   "source": [
    "# Answers - question 1:\n",
    "\n",
    "print('Who won the final of the 2021 Womens US Open?')\n",
    "final_winner_year(winners_rounds, 'US Open', '2021')\n",
    "print('\\n')\n",
    "\n",
    "print('Who played against whom in the 4th Round of the 2018 French Open?') \n",
    "round_all_games(winners_rounds, 4, '2018', 'French Open')\n",
    "print('\\n')\n",
    "\n",
    "print('How many finals has Naomi Osaka played in until now?')\n",
    "finals_appearance(winners_rounds, 'Osaka N.')\n",
    "print('\\n')\n",
    "\n",
    "print('In which round was Venus Williams eliminated in the 2011 Australian Open?')\n",
    "round_elimination(winners_rounds, 'Australian Open', '2011', 'Williams V.')\n",
    "print('\\n')\n",
    "\n",
    "print('How many times have Venus and Serena Williams played against each other and how many of these matches each won?')\n",
    "head_to_head(winners_rounds, 'Williams S.', 'Williams V.')\n",
    "print('\\n')"
   ]
  },
  {
   "cell_type": "code",
   "execution_count": 8,
   "id": "83ee2fe3",
   "metadata": {},
   "outputs": [
    {
     "name": "stdout",
     "output_type": "stream",
     "text": [
      " The top 3 players and their score in 2021 were:\n",
      " [[1, ('Kontaveit A.', 49)], [2, ('Jabeur O.', 48)], [3, ('Sabalenka A.', 44)]]\n",
      "\n",
      "\n",
      " The top 3 players for the entire period are:\n",
      " [[1, ('Wozniacki C.', 591)], [2, ('Williams S.', 514)], [3, ('Radwanska A.', 501)]]\n"
     ]
    }
   ],
   "source": [
    "# Answers - question 2:\n",
    "\n",
    "print(' The top 3 players and their score in 2021 were:\\n' ,winners_win(winners_rounds, '2021', '2021')[0:3])\n",
    "print('\\n')\n",
    "print(' The top 3 players for the entire period are:\\n' ,winners_win(winners_rounds, '2007', '2021')[0:3])"
   ]
  },
  {
   "cell_type": "code",
   "execution_count": 9,
   "id": "8a136013",
   "metadata": {},
   "outputs": [
    {
     "name": "stdout",
     "output_type": "stream",
     "text": [
      " The top 3 players and their score in 2021 were:\n",
      " [[1, ('Barty A.', 145.79999999999998)], [2, ('Sabalenka A.', 115.23333333333333)], [3, ('Kontaveit A.', 105.73333333333333)]]\n",
      "\n",
      "\n",
      " The top 3 players for the entire period are:\n",
      " [[1, ('Williams S.', 1626.354761904762)], [2, ('Wozniacki C.', 1389.5357142857142)], [3, ('Azarenka V.', 1153.1785714285713)]]\n"
     ]
    }
   ],
   "source": [
    "# Answers - question 3:\n",
    "\n",
    "print(' The top 3 players and their score in 2021 were:\\n' ,winners_dont_lose(winners_rounds, '2021', '2021')[0:3])\n",
    "print('\\n')\n",
    "print(' The top 3 players for the entire period are:\\n' ,winners_dont_lose(winners_rounds, '20007', '2021')[0:3])"
   ]
  },
  {
   "cell_type": "code",
   "execution_count": 11,
   "id": "546e4050",
   "metadata": {},
   "outputs": [
    {
     "name": "stdout",
     "output_type": "stream",
     "text": [
      " The top 3 players and their score in 2021 were:\n",
      " [[1, ('Sabalenka A.', 0.21098228906632038)], [2, ('Barty A.', 0.21067222353552761)], [3, ('Muguruza G.', 0.19196201932598225)]]\n",
      "\n",
      "\n",
      " The top 3 players for the entire period are:\n",
      " [[1, ('Williams S.', 0.45799972347135554)], [2, ('Wozniacki C.', 0.4112066045653373)], [3, ('Azarenka V.', 0.37902141136592205)]]\n"
     ]
    }
   ],
   "source": [
    "# Answers - question 4:\n",
    "\n",
    "print(' The top 3 players and their score in 2021 were:\\n' ,wbw_rank(winners_rounds, '2021', '2021')[0:3])\n",
    "print('\\n')\n",
    "\n",
    "print(' The top 3 players for the entire period are:\\n', wbw_rank(winners_rounds, '2007', '2021')[0:3])"
   ]
  }
 ],
 "metadata": {
  "kernelspec": {
   "display_name": "Python 3 (ipykernel)",
   "language": "python",
   "name": "python3"
  },
  "language_info": {
   "codemirror_mode": {
    "name": "ipython",
    "version": 3
   },
   "file_extension": ".py",
   "mimetype": "text/x-python",
   "name": "python",
   "nbconvert_exporter": "python",
   "pygments_lexer": "ipython3",
   "version": "3.8.12"
  }
 },
 "nbformat": 4,
 "nbformat_minor": 5
}
